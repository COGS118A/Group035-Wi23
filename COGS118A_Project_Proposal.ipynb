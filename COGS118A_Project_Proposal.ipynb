{
 "cells": [
  {
   "cell_type": "markdown",
   "id": "4b356954",
   "metadata": {},
   "source": [
    "<center> <h1 style=\"font-size: 3em;\"> COGS 118A - Project Proposal </h1> </center>\n",
    "\n",
    "\n",
    "<center> <h1> Project Description </h1> </center>\n",
    "\n",
    "<h2> Names </h2>\n",
    "<ul >\n",
    "  <li style=\"padding-left: 20px;\"> Jamie Wei (A15921963) </li>\n",
    "  <li style=\"padding-left: 20px;\"> Nicole Rangan (A15011222) </li>\n",
    "  <li style=\"padding-left: 20px;\"> Sarita Raghunath (A16425750) </li>\n",
    "  <li style=\"padding-left: 20px;\"> Zehong Li (A15852954) </li>\n",
    "</ul>"
   ]
  },
  {
   "cell_type": "markdown",
   "id": "4ee96b86",
   "metadata": {},
   "source": [
    "<h2> Abstract </h2>\n",
    "<p style=\"padding-left: 20px;\">The aim of this project is to predict the win-rate of Dota2 games based on the heroes picked, using data from OpenDota API. We plan to use a logistic regression model to predict the probability of a team winning, based on the combination of heroes picked by both teams. We will use Python libraries like NumPy, Pandas, Matplotlib, Seaborn, and scikit-learn for data cleaning, handling, and model construction. We will collect data from the top 0.05% of players, consisting of the combinations of heroes used in gameplay, which will be one-hot encoded. The model's accuracy in predicting game outcomes will be the primary evaluation metric, though we are also considering other metrics like precision, recall, and AUC-ROC curve. While a valuable application of the research is to assist in drafting strategies for Dota2 games, we will frame our study as an exploration of the potential of machine learning algorithms in analyzing and predicting the outcomes of complex, team-based games.\n",
    "</p>"
   ]
  },
  {
   "cell_type": "markdown",
   "id": "cff18e51",
   "metadata": {},
   "source": [
    "<h2> Background </h2>\n",
    "<p style=\"padding-left: 20px;\">Defense of the Ancient 2 (DotA2) is a popular Multiplayer Online Battle Arena (MOBA) game played by two teams, each consisting of five players, with a pool of 123 heroes to choose from. The game is highly strategic, with an ultimate goal of destroying of opponents’ ‘ancient’, a heavily guarded structure by towers, creeps, and opponents’ players (McDonald, 2013) <sup><a href=\"#ref1\" id=\"#ref1text\">[1]</a></sup> . The game requires teams to coordinate effectively, and make crucial decisions during drafting and gameplay, as the combination of heroes picked can significantly affect the outcome of the game (Walbridge 2008) <sup><a href=\"#ref2\" id=\"#ref1text\">[2]</a></sup>. With the competitive characteristic and its popularity, DotA2 has one of the largest esport tournament in the world, with the highest prize pool to record (Wang et al. 2015) <sup><a href=\"#ref3\" id=\"#ref1text\">[3]</a></sup>.<br><br>\n",
    "Given its esport competitive nature and commercial value on tournaments, various scholars and researchers conducted model construction to estimate or predict the winning probability (win-rate) of a game. DotA2’s developer company Valve have also published their own game win-rate forecast model, included in their subscription service Dota Plus (2018) <sup><a href=\"#ref4\" id=\"#ref1text\">[4]</a></sup>. American artificial intelligence research laboratory OpenAI has also stepped into the area of DotA2, but not with a win-rate prediction model, but rather a feature that was embedded in their DotA2 AI \"OpenAI Five\"<sup><a href=\"#ref5\" id=\"#ref1text\">[5]</a></sup> . However, their winrate prediction is also based on in-game situation, and the model itself is never a classifier but rather a deep reinforcement learning model. <br><br>\n",
    "However, according to Wang and Shang in their paper in 2017<sup><a href=\"#ref6\" id=\"#ref1text\">[6]</a></sup>, ‘no clear algorithms or software’ are specifically designed for the task of predicting outcome ‘by analyzing the lineups’, in other words, the heroes composition (p. 1). Most algorithm exists are based on in-game stats, such as kill/death/assist ratio and gold per minutes (GPM), but hardly any algorithms are designed only for analyzing matchups, the heroes picked or banned. Wang and Shang created Naïve Bayes classifier for a prediction model, but there is a significant difference in their training accuracy and test accuracy. <br><br>\n",
    "A good classification model in DotA2, or more generally in esport area, can be important for the games’ competitive scene. As esport growing into professional sport environments today, such a model can have practical applications in the gaming industry, particularly in assisting players with drafting strategies to improve their chances of winning. Additionally, this study can inspire further research into developing models for predicting the outcomes of other complex, team-based games, demonstrating the broad applicability of machine learning algorithms to a variety of domains.\n",
    "</p>"
   ]
  },
  {
   "cell_type": "markdown",
   "id": "da65c745",
   "metadata": {},
   "source": [
    "<h2> Problem Statement </h2>\n",
    "<p style=\"padding-left: 20px;\">The problem addressed in our study is predicting the win-rate of Dota2 games based solely on the heroes picked by each team. The goal is to develop a model that can accurately predict the probability of a team winning the game, regardless of players' skills or patch. The problem is well-defined, as the dataset will consist of the 10 heroes picked by both teams, which will be one-hot encoded and used as input for the model. <br><br>\n",
    "The solution to the problem is through machine learning algorithms, which is capable of learning the past patterns on high win-rate hero combinations in training and utilize such observed patterns to predict the out come based on hero composiiton. The problem is quantifiable, as it can be expressed mathematically using the probability of winning as a metric. It is measurable, as the accuracy of the model's predictions can be observed and quantified. Finally, the problem is replicable, as it can be reproduced using different datasets and has occurred multiple times in Dota2 games.\n",
    "</p>"
   ]
  },
  {
   "cell_type": "markdown",
   "id": "6dfddb91",
   "metadata": {},
   "source": [
    "<h2> Data </h2>\n",
    "<p style=\"padding-left: 20px;\">  <a href=\"https://docs.opendota.com/#\"> Open DotA - API <sup><a href=\"#ref7\" id=\"#ref1text\">[7]</a></sup> </a> <br><br>\n",
    "The data used in this study will be obtained from the OpenDota API, which provides access to game data such as match history, player profiles, and hero statistics. The dataset will consist of the top 0.05% of players and the combinations of heroes used in gameplay. Each observation will consist of the combination of heroes picked by each team, as well as the win/loss outcome from the match history. The critical variables in the dataset will be the hero combination and the win rate. The data will be one-hot encoded to represent hero names and team combinations as binary variables. <br><br> We will isolate the data we need, and drop any data we will not be using. We will write scripts for API calls to collect data, perform one-hot encoding, and transform hero names in strings into binary representations of categorical data. We will clean the data and possibly transform it to match the size of heroes array, games array, and the win/loss label array. The size of the dataset will depend on the number of observations gathered, but the final dataset is expected to contain more than a hundred thousand observations.\n",
    "</p>"
   ]
  },
  {
   "cell_type": "markdown",
   "id": "21a0b74b",
   "metadata": {},
   "source": [
    "<h2> Evaluation Metric </h2>\n",
    "<p style=\"padding-left: 20px;\"> \n",
    "We plan to evaluate the performance of our model using a range of metrics, including accuracy, precision, recall, and the area under the receiver operating characteristic (ROC) curve (AUC-ROC). Accuracy will be used as the primary evaluation metric, which represents the proportion of correct predictions made by the model. In addition to accuracy, precision and recall will be used to provide more detailed insight into the performance of the model. Precision measures the proportion of true positives out of all positive predictions, while recall measures the proportion of true positives out of all actual positives. The AUC-ROC curve will be used to evaluate the trade-off between true positive rate and false positive rate at different probability thresholds. <br><br> However, there is no single metric that can capture the full performance of a machine learning model, and different metrics can be more or less appropriate depending on the specifics of the problem being solved. While we will use multiple evaluation metrics to gain a comprehensive understanding of our model's performance, we acknowledge that there are limitations to each metric and that some metrics may be more relevant or informative than others for our specific problem.\n",
    "</p>"
   ]
  },
  {
   "cell_type": "markdown",
   "id": "6feb6c60",
   "metadata": {},
   "source": [
    "<h2> Ethics &amp; Privacy </h2>\n",
    "<p style=\"padding-left: 20px;\"> \n",
    "While the use of the Dota2 API to gather player data is based on user consent, there remains a risk of the model being used to create unfair advantages for certain players or teams. Analyzing player data to identify their weaknesses could create an unfair playing field and undermine the integrity of the game. Therefore, it is crucial to use the model's results ethically and ensure that the data is anonymized to protect the privacy of the players. Additionally, it is important to be transparent about the purpose and methodology of the model to prevent misunderstandings and promote ethical usage. Overall, the study should follow ethical guidelines and respect the players' privacy and rights, while still advancing the understanding of machine learning applications in complex team-based games.\n",
    "</p>"
   ]
  },
  {
   "cell_type": "markdown",
   "id": "f55c2e5e",
   "metadata": {},
   "source": [
    "<h2> Team Expectation </h2>\n",
    "<p style=\"padding-left: 20px;\"> \n",
    "Zehong knows the most about DOTA 2, so he will be able to do a lot of the parts that require knowledge of the game. Also due to the idea being mostly Zehong, we believe that he will do most of the decision making for the project. The whole group will be involved in the coding and the reports. We plan on finishing and then doing a review before the deadline to make sure that everyone does their work and that everyone agrees with it. \n",
    "</p>"
   ]
  },
  {
   "cell_type": "markdown",
   "id": "f3d6f417",
   "metadata": {},
   "source": [
    "<h2> Project Timeline Proposal </h2>\n",
    "<table>\n",
    "  <tr>\n",
    "    <th> Meeting Date </th>\n",
    "    <th> Meeting Time </th>\n",
    "    <th> Completed Before Meeting </th>\n",
    "    <th> Discuss at Meeting </th>\n",
    "  </tr>\n",
    "  <tr>\n",
    "    <td> 2/14 </td>\n",
    "    <td> 7PM </td>\n",
    "    <td> Brainstorm Topics / Questions </td>\n",
    "    <td> Determine topic, model, data collection methodologies </td>\n",
    "  </tr>\n",
    "  <tr>\n",
    "    <td> 2/26</td>\n",
    "    <td> 5PM </td>\n",
    "    <td> Written project proposal submitted / collection of data set / reading on papers and past existing models </td>\n",
    "    <td> How past models can inspire our new approaches to a more accurate model constructions; which one is the most ideal dataset; which specific aspects of the project each teammate should be working on; determine “default” algorithm </td>\n",
    "  </tr>\n",
    "  <tr>\n",
    "    <td> 3/2 </td>\n",
    "    <td> 7PM </td>\n",
    "    <td> Model selection / dataset selection / team work split / base algorithm should be determined </td>\n",
    "    <td> Begin preliminary data analysis on: suitability, feature selection, hyperparameter performance, and validation curve </td>\n",
    "  </tr>\n",
    "  <tr>\n",
    "    <td> 3/7 </td>\n",
    "    <td> 7PM</td>\n",
    "    <td> Preliminary data analysis without data visualization / demonstrated data handling or cleaning process </td>\n",
    "    <td> Construct table and graphs that indicates the performance of different models / hyperparameters; updated data section in the proposal / start constructing model </td>\n",
    "  </tr>\n",
    "  <tr>\n",
    "    <td> 3/14 </td>\n",
    "    <td> 7PM </td>\n",
    "    <td> Everything in checkpoint done and submitted </td>\n",
    "    <td> Model construction check; identify remaining problems or difficulties; fix on wording of the report; identifying limitations </td>\n",
    "  </tr>\n",
    "  <tr>\n",
    "    <td> 3/19 </td>\n",
    "    <td> 5PM </td>\n",
    "    <td> Model construction / limitations of our model </td>\n",
    "    <td> Result visualization / interpretation of result / conclusion </td>\n",
    "  </tr>\n",
    "  <tr>\n",
    "    <td> 3/21 </td>\n",
    "    <td> 7PM </td>\n",
    "    <td> Everything </td>\n",
    "    <td> Final check on wording, data, and conclusion. Fix everything and submit\n",
    " </td>\n",
    "  </tr>\n",
    "</table>\n"
   ]
  },
  {
   "cell_type": "markdown",
   "id": "46329708",
   "metadata": {},
   "source": [
    "<h2> Footnotes </h2>\n",
    "<ol>\n",
    "  <li id='ref1' style=\"padding-left: 20px; font-size: 10px\">  McDonald, P. (2013). A beginner's guide to Dota 2: Part one - The basics. PC Invasion. Retrieved from https://www.pcinvasion.com/a-beginners-guide-to-dota-2-part-one-the-basics/\n",
    " </li>\n",
    "  <li id='ref2' style=\"padding-left: 20px; font-size: 10px\"> Walbridge, D. (2008). Gamasutra - The art & business of making games. Gamasutra. Retrieved from https://web.archive.org/web/20121013125257/http://www.gamasutra.com/php-bin/news_index.php?story=18863#.UTN871fohYQ\n",
    " </li>\n",
    "  <li id='ref3' style=\"padding-left: 20px; font-size: 10px\"> Wang, H., Xia, B., & Chen, Z. (2015). Cultural difference on team performance between Chinese and Americans in multiplayer online battle arena games. In G. Rau, Y. Kurosu, & J. Cao (Eds.), Cross-Cultural Design Applications in Mobile Interaction, Education, Health, Transport and Cultural Heritage: 7th International Conference, CCD 2015, Held as Part of HCI International 2015, Los Angeles, CA, USA, August 2-7, 2015, Proceedings, Part II (pp. 374-383). Springer International Publishing.\n",
    " </li>\n",
    "  <li id='ref4' style=\"padding-left: 20px; font-size: 10px\"> Valve Corporation. (2018). Product release - Dota Plus. Steam News. Retrieved from https://store.steampowered.com/oldnews/38154\n",
    " </li>\n",
    "  <li id='ref5' style=\"padding-left: 20px; font-size: 10px\"> OpenAI. (n.d.). OpenAI Five. Retrieved February 22, 2023, from https://openai.com/five/\n",
    " </li>\n",
    "  <li id='ref6' style=\"padding-left: 20px; font-size: 10px\"> Wang, K., & Shang, W. (2017). Outcome prediction of DOTA2 based on Naïve Bayes classifier. In 2017 IEEE/ACIS 16th International Conference on Computer and Information Science (ICIS) (pp. 591-593). IEEE.\n",
    " </li>\n",
    "  <li id='ref7' style=\"padding-left: 20px; font-size: 10px\"> OpenDota. (n.d.). OpenDota API documentation. Retrieved February 22, 2023, from https://docs.opendota.com/#\n",
    " </li>\n",
    "  <li id='ref8' style=\"padding-left: 20px; font-size: 10px\"> Huang, J. (2015). Predicting the winning team of Dota 2. Retrieved from http://jmcauley.ucsd.edu/cse258/projects/fa15/018.pdf\n",
    " </li>\n",
    "  <li id='ref9' style=\"padding-left: 20px; font-size: 10px\"> Kaushik, S. & Kalyanaraman, K. (2015). Dota 2 match outcome prediction. Retrieved from https://cseweb.ucsd.edu/classes/wi15/cse255-a/reports/wi15/Kaushik_Kalyanaraman.pdf\n",
    " </li>\n",
    "  <li id='ref10' style=\"padding-left: 20px; font-size: 10px\"> Kaggle. (n.d.). Dota 2: Win prediction. Retrieved from https://www.kaggle.com/c/dota-2-win-probability-prediction\n",
    " </li>\n",
    "  <li id='ref11' style=\"padding-left: 20px; font-size: 10px\"> Vu, P. (2018). Dota 2 win-rate prediction. Retrieved from https://github.com/vpus/dota2-win-rate-prediction-v1\n",
    " </li>\n",
    "</ol>"
   ]
  }
 ],
 "metadata": {
  "kernelspec": {
   "display_name": "Python 3 (ipykernel)",
   "language": "python",
   "name": "python3"
  },
  "language_info": {
   "codemirror_mode": {
    "name": "ipython",
    "version": 3
   },
   "file_extension": ".py",
   "mimetype": "text/x-python",
   "name": "python",
   "nbconvert_exporter": "python",
   "pygments_lexer": "ipython3",
   "version": "3.9.13"
  }
 },
 "nbformat": 4,
 "nbformat_minor": 5
}
